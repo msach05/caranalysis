{
 "cells": [
  {
   "cell_type": "markdown",
   "metadata": {},
   "source": [
    "# What drives the price of a car?\n",
    "\n",
    "![](images/kurt.jpeg)"
   ]
  },
  {
   "cell_type": "markdown",
   "metadata": {},
   "source": [
    "**OVERVIEW**\n",
    "\n",
    "In this application, you will explore a dataset from Kaggle. The original dataset contained information on 3 million used cars. The provided dataset contains information on 426K cars to ensure speed of processing.  Your goal is to understand what factors make a car more or less expensive.  As a result of your analysis, you should provide clear recommendations to your client -- a used car dealership -- as to what consumers value in a used car."
   ]
  },
  {
   "cell_type": "markdown",
   "metadata": {},
   "source": [
    "### CRISP-DM Framework\n",
    "\n",
    "<center>\n",
    "    <img src = images/crisp.png width = 50%/>\n",
    "</center>\n",
    "\n",
    "\n",
    "To frame the task, throughout our practical applications, we will refer back to a standard process in industry for data projects called CRISP-DM.  This process provides a framework for working through a data problem.  Your first step in this application will be to read through a brief overview of CRISP-DM [here](https://mo-pcco.s3.us-east-1.amazonaws.com/BH-PCMLAI/module_11/readings_starter.zip).  After reading the overview, answer the questions below."
   ]
  },
  {
   "cell_type": "markdown",
   "metadata": {},
   "source": [
    "# Business Understanding\n",
    "\n",
    "From a business perspective, we are tasked with identifying key drivers for used car prices.  In the CRISP-DM overview, we are asked to convert this business framing to a data problem definition.  Using a few sentences, reframe the task as a data task with the appropriate technical vocabulary. "
   ]
  },
  {
   "cell_type": "markdown",
   "metadata": {
    "collapsed": false,
    "jupyter": {
     "outputs_hidden": false
    }
   },
   "source": [
    "<div style=\"color:blue;\">\n",
    "\n",
    "#### Data Problem Definition\n",
    "\n",
    "This task is a **supervised learning** problem, with **used car prices** serving as the target variable, and **car attributes** as features. The objective involves performing **exploratory data analysis (EDA)** and **feature engineering** to understand data distributions and relationships among features. Subsequently, **regression models** will be developed to quantify the predictive influence of each attribute on car prices. Ultimately, insights derived from **feature importance metrics** will highlight key price drivers, enabling targeted, data-driven recommendations to the dealership.\n",
    "\n",
    "</div>\n"
   ]
  },
  {
   "cell_type": "markdown",
   "metadata": {
    "collapsed": false,
    "jupyter": {
     "outputs_hidden": false
    }
   },
   "source": [
    "### Data Understanding\n",
    "\n",
    "After considering the business understanding, we want to get familiar with our data.  Write down some steps that you would take to get to know the dataset and identify any quality issues within.  Take time to get to know the dataset and explore what information it contains and how this could be used to inform your business understanding."
   ]
  },
  {
   "cell_type": "markdown",
   "metadata": {
    "collapsed": false,
    "jupyter": {
     "outputs_hidden": false
    }
   },
   "source": [
    "<div style=\"color:blue;\">\n",
    "\n",
    "#### Data Problem Definition\n",
    "\n",
    "During data understanding the main steps I would want to perform are\n",
    "\n",
    "- **Check for Missing Values**: Identify nulls (`NA`, `None`, `null`) and empty values across columns.\n",
    "- **Detect Outliers**: Use the Interquartile Range (IQR) method to find extreme numeric values.\n",
    "- **Checked for Inconsistent Capitalization**: Examine categorical columns to detect duplicate categories differing only in letter case (upper/lower).\n",
    "- **Identify Leading/Trailing Whitespace**: Analyzed textual columns for extra whitespace that may affect consistency.\n",
    "- **Understand the Unique Values**: Examine categorical columns to understand the cardinality of data.\n",
    "\n",
    "</div>"
   ]
  },
  {
   "cell_type": "code",
   "execution_count": null,
   "metadata": {},
   "outputs": [],
   "source": [
    "import matplotlib.pyplot as plt\n",
    "import seaborn as sns\n",
    "import pandas as pd\n",
    "import numpy as np\n",
    "df = pd.read_csv(\"data/vehicles.csv\", low_memory=False)"
   ]
  },
  {
   "cell_type": "markdown",
   "metadata": {
    "collapsed": false,
    "jupyter": {
     "outputs_hidden": false
    }
   },
   "source": [
    "<div style=\"color:blue;\">\n",
    "\n",
    "#### Load the data and look the info\n",
    "\n",
    "</div>"
   ]
  },
  {
   "cell_type": "code",
   "execution_count": null,
   "metadata": {},
   "outputs": [],
   "source": [
    "df.head(300)\n",
    "df.info()"
   ]
  },
  {
   "cell_type": "code",
   "execution_count": null,
   "metadata": {},
   "outputs": [],
   "source": [
    "#Data Analysis - Analyze the data for nulls, blanks and unknowns\n",
    "def report_missing_values(df):\n",
    "   \n",
    "    missing_count = df.isnull().sum()\n",
    "\n",
    "    missing_percentage = ((df.isnull().sum() / len(df)) * 100).round(1)\n",
    "\n",
    "    unknown_count = df.apply(lambda col: col.astype(str).isin(['unknown', 'unknowns', '']).sum())\n",
    "\n",
    "    missing_df = pd.DataFrame({\n",
    "        'Column Name': missing_count.index,\n",
    "        'Number of Missing Values': missing_count.values,\n",
    "        'Percentage': missing_percentage.values,\n",
    "        'Unknown/Blank Count': unknown_count.values\n",
    "    })\n",
    "    \n",
    "    return missing_df\n",
    "\n",
    "report_missing_values(df)\n",
    "\n"
   ]
  },
  {
   "cell_type": "code",
   "execution_count": null,
   "metadata": {},
   "outputs": [],
   "source": [
    "#Data Analysis - Analyze the data for uniqueness, outliers, casing and other forms of NA/null\n",
    "import pandas as pd\n",
    "import numpy as np\n",
    "\n",
    "def report_data_quality(df):\n",
    "   \n",
    "    total_rows = len(df)\n",
    "    alt_missing_values_list = ['NA', 'N/A', 'null', 'None']\n",
    "    summary_data = []\n",
    "    \n",
    "    for col in df.columns:\n",
    "        col_series = df[col]\n",
    "        \n",
    "        # Unique Values Count\n",
    "        unique_values_count = col_series.nunique(dropna=True)\n",
    "\n",
    "        # Leading/Trailing Whitespace Count: for object columns only\n",
    "        if col_series.dtype == 'object':\n",
    "            lt_whitespace_count = col_series.dropna().astype(str).apply(lambda x: x != x.strip()).sum()\n",
    "        else:\n",
    "            lt_whitespace_count = np.nan\n",
    "        \n",
    "        # Numeric Outlier Count: use IQR method for numeric columns\n",
    "        if pd.api.types.is_numeric_dtype(col_series):\n",
    "            q1 = col_series.quantile(0.25)\n",
    "            q3 = col_series.quantile(0.75)\n",
    "            iqr = q3 - q1\n",
    "            lower_bound = q1 - 1.5 * iqr\n",
    "            upper_bound = q3 + 1.5 * iqr\n",
    "            numeric_outliers_count = col_series[(col_series < lower_bound) | (col_series > upper_bound)].count()\n",
    "        else:\n",
    "            numeric_outliers_count = np.nan\n",
    "        \n",
    "        # Inconsistent Data Types: list unique types in non-missing values.\n",
    "        types = col_series.dropna().apply(lambda x: type(x).__name__).unique()\n",
    "        if len(types) > 1:\n",
    "            inconsistent_types = \", \".join(sorted(types))\n",
    "        else:\n",
    "            inconsistent_types = \"\"\n",
    "        \n",
    "        # Inconsistent Categories: for object columns, compare unique counts before and after lowercasing.\n",
    "        if col_series.dtype == 'object':\n",
    "            series_str = col_series.dropna().astype(str)\n",
    "            original_unique = series_str.nunique()\n",
    "            lower_unique = series_str.str.lower().nunique()\n",
    "            if lower_unique < original_unique:\n",
    "                inconsistent_categories = f\"Yes (Original: {original_unique}, Lowercase: {lower_unique})\"\n",
    "            else:\n",
    "                inconsistent_categories = \"No\"\n",
    "        else:\n",
    "            inconsistent_categories = np.nan\n",
    "        \n",
    "        summary_data.append({\n",
    "            'Column Name': col,\n",
    "            'Unique Values Count': unique_values_count,\n",
    "            'Leading/Trailing Whitespace Count': lt_whitespace_count,\n",
    "            'Numeric Outlier Count': numeric_outliers_count,\n",
    "            'Inconsistent Data Types': inconsistent_types,\n",
    "            'Inconsistent Categories': inconsistent_categories\n",
    "        })\n",
    "    \n",
    "    summary_df = pd.DataFrame(summary_data)\n",
    "    summary_df.index.name = 'Index'\n",
    "    return summary_df\n",
    "\n",
    "\n",
    "report_data_quality(df)\n"
   ]
  },
  {
   "cell_type": "markdown",
   "metadata": {
    "collapsed": false,
    "jupyter": {
     "outputs_hidden": false
    }
   },
   "source": []
  },
  {
   "cell_type": "markdown",
   "metadata": {
    "collapsed": false,
    "jupyter": {
     "outputs_hidden": false
    }
   },
   "source": [
    "# **Data Analysis Summary**\n",
    "\n",
    "### <span style='color:blue'>**Dataset Overview (Complete Dataset)**</span>\n",
    "\n",
    "- **Total rows:** 426,880\n",
    "- **Total columns:** 18\n",
    "- **Columns and Data Types:**\n",
    "  - **Numeric Columns:** \n",
    "    - id (int64)\n",
    "    - price (int64)\n",
    "    - year (float64)\n",
    "    - odometer (float64)\n",
    "  - **Categorical/Object Columns:**\n",
    "    - region, manufacturer, model, condition, cylinders, fuel, title_status, transmission, VIN, drive, size, type, paint_color, state\n",
    "---\n",
    "\n",
    "### <span style='color:blue'>**Missing Data Analysis**</span>\n",
    "\n",
    "- Columns with high percentages of missing values:\n",
    "  - **size:** 71.8% missing values\n",
    "  - **cylinders:** 41.6% missing values\n",
    "  - **condition:** 40.8% missing values\n",
    "  - **VIN:** 37.7% missing values\n",
    "  - **type:** 21.8% missing values\n",
    "  - **paint_color:** 30.5% missing values\n",
    "\n",
    "- **Columns with no missing data:** id, region, price, state\n",
    "\n",
    "---\n",
    "\n",
    "### <span style='color:blue'>**Unique Values and Outliers Analysis**</span>\n",
    "\n",
    "- **High Unique Counts:**\n",
    "  - **id:** 426,880 unique values\n",
    "  - **model:** 29,649 unique values, inconsistency in formatting (case sensitivity)\n",
    "  - **VIN:** 118,246 unique values\n",
    "  - **odometer:** 104,870 unique values\n",
    "  - **region:** 404 unique values\n",
    "\n",
    "- **Significant Numeric Outliers:**\n",
    "  - **year:** 15,896 numeric outliers\n",
    "  - **price:** 8,177 numeric outliers\n",
    "  - **odometer:** 4,385 numeric outliers\n",
    "\n",
    "- **Consistency Checks:**\n",
    "  - **No inconsistencies** detected in categories for columns: region, condition, fuel, title_status, transmission, drive, size, type, paint_color\n",
    "\n",
    "---  \n",
    "\n"
   ]
  },
  {
   "cell_type": "markdown",
   "metadata": {},
   "source": []
  },
  {
   "cell_type": "code",
   "execution_count": null,
   "metadata": {},
   "outputs": [],
   "source": [
    "# Create a boxplot to visualize the distribution and identify outliers for odometer values\n",
    "plt.figure(figsize=(10, 6))\n",
    "plt.boxplot(df[\"odometer\"], vert=False)\n",
    "plt.xlabel(\"Odometer\")\n",
    "plt.title(\"Boxplot of Odometer Values\")\n",
    "plt.show()\n",
    "\n",
    "# Create a histogram to see the overall distribution of the odometer values\n",
    "plt.figure(figsize=(10, 6))\n",
    "plt.hist(df[\"odometer\"], bins=30, edgecolor='black')\n",
    "plt.xlabel(\"Odometer\")\n",
    "plt.ylabel(\"Frequency\")\n",
    "plt.title(\"Distribution of Odometer Values\")\n",
    "plt.show()"
   ]
  },
  {
   "cell_type": "code",
   "execution_count": null,
   "metadata": {},
   "outputs": [],
   "source": [
    "import matplotlib.pyplot as plt\n",
    "\n",
    "# Print the unique year values\n",
    "#print(\"Unique year values:\", df[\"year\"].unique())\n",
    "\n",
    "# Create a boxplot to visualize the distribution and identify outliers\n",
    "plt.figure(figsize=(10, 6))\n",
    "plt.boxplot(df[\"year\"], vert=False)\n",
    "plt.xlabel(\"Year\")\n",
    "plt.title(\"Boxplot of Car Year Values\")\n",
    "plt.show()\n",
    "\n",
    "# Create a histogram to see the overall distribution of the years\n",
    "plt.figure(figsize=(10, 6))\n",
    "plt.hist(df[\"year\"], bins=30, edgecolor='black')\n",
    "plt.xlabel(\"Year\")\n",
    "plt.ylabel(\"Frequency\")\n",
    "plt.title(\"Distribution of Car Year Values\")\n",
    "plt.show()\n"
   ]
  },
  {
   "cell_type": "code",
   "execution_count": null,
   "metadata": {},
   "outputs": [],
   "source": [
    "import matplotlib.pyplot as plt\n",
    "\n",
    "# Create a boxplot to visualize the distribution and identify outliers for price values\n",
    "plt.figure(figsize=(10, 6))\n",
    "plt.boxplot(df[\"price\"], vert=False)\n",
    "plt.xlabel(\"Price\")\n",
    "plt.title(\"Boxplot of Price Values\")\n",
    "plt.show()\n",
    "\n",
    "# Create a histogram to see the overall distribution of the price values\n",
    "plt.figure(figsize=(10, 6))\n",
    "plt.hist(df[\"price\"], bins=30, edgecolor='black')\n",
    "plt.xlabel(\"Price\")\n",
    "plt.ylabel(\"Frequency\")\n",
    "plt.title(\"Distribution of Price Values\")\n",
    "plt.show()"
   ]
  },
  {
   "cell_type": "code",
   "execution_count": null,
   "metadata": {},
   "outputs": [],
   "source": []
  },
  {
   "cell_type": "markdown",
   "metadata": {},
   "source": [
    "### Data Preparation\n",
    "\n",
    "After our initial exploration and fine-tuning of the business understanding, it is time to construct our final dataset prior to modeling.  Here, we want to make sure to handle any integrity issues and cleaning, the engineering of new features, any transformations that we believe should happen (scaling, logarithms, normalization, etc.), and general preparation for modeling with `sklearn`. "
   ]
  },
  {
   "cell_type": "markdown",
   "metadata": {
    "collapsed": false,
    "jupyter": {
     "outputs_hidden": false
    }
   },
   "source": [
    "<span style='color:blue'>**Step 1: Drop Columns (High Cardinality or Low Value)**</span>"
   ]
  },
  {
   "cell_type": "code",
   "execution_count": null,
   "metadata": {
    "jupyter": {
     "outputs_hidden": false
    }
   },
   "outputs": [],
   "source": [
    "# Drop columns with very high cardinality or that are unique identifiers\n",
    "columns_to_drop = ['id', 'VIN', 'model', 'region','state']\n",
    "df = df.drop(columns=columns_to_drop, errors='ignore')"
   ]
  },
  {
   "cell_type": "markdown",
   "metadata": {
    "collapsed": false,
    "jupyter": {
     "outputs_hidden": false
    }
   },
   "source": [
    "<span style='color:blue'>**Step 2: Handle Missing Data (Row-Level Deletion)**</span>"
   ]
  },
  {
   "cell_type": "code",
   "execution_count": null,
   "metadata": {
    "jupyter": {
     "outputs_hidden": false
    }
   },
   "outputs": [],
   "source": [
    "df = df.dropna(subset=['year', 'price'])"
   ]
  },
  {
   "cell_type": "markdown",
   "metadata": {
    "collapsed": false,
    "jupyter": {
     "outputs_hidden": false
    }
   },
   "source": [
    "<span style='color:blue'>**Step 3: Outlier Treatment**</span>"
   ]
  },
  {
   "cell_type": "code",
   "execution_count": null,
   "metadata": {},
   "outputs": [],
   "source": [
    "# Price outlier removal using quantile thresholds\n",
    "price_lower = 0.0\n",
    "price_upper = 100000\n",
    "print(price_lower)\n",
    "print(price_upper)\n",
    "df = df[(df['price'] >= price_lower) & (df['price'] <= price_upper)]\n",
    "\n",
    "# Odometer outlier removal\n",
    "odometer_upper = 200000\n",
    "df = df[df['odometer'] <= odometer_upper]\n",
    "print(odometer_upper)\n",
    "\n",
    "# Year outlier removal\n",
    "year_lower = 1995\n",
    "year_upper = 2021\n",
    "df = df[(df['year'] >= year_lower) & (df['year'] <= price_upper)]"
   ]
  },
  {
   "cell_type": "markdown",
   "metadata": {
    "collapsed": false,
    "jupyter": {
     "outputs_hidden": false
    }
   },
   "source": [
    "<span style='color:blue'>**Step 4: Impute Numeric Columns (Median)**</span>"
   ]
  },
  {
   "cell_type": "code",
   "execution_count": null,
   "metadata": {},
   "outputs": [],
   "source": [
    "df['odometer'] = df['odometer'].fillna(df['odometer'].median())"
   ]
  },
  {
   "cell_type": "markdown",
   "metadata": {
    "collapsed": false,
    "jupyter": {
     "outputs_hidden": false
    }
   },
   "source": [
    "<span style='color:blue'>**Step 5: Impute Categorical Columns (Mode)**</span>"
   ]
  },
  {
   "cell_type": "code",
   "execution_count": null,
   "metadata": {
    "jupyter": {
     "outputs_hidden": false
    }
   },
   "outputs": [],
   "source": [
    "categorical_cols_mode = ['manufacturer', 'fuel', 'transmission', 'type', \n",
    "                         'title_status', 'condition', 'cylinders', 'drive', \n",
    "                         'paint_color', 'size']\n",
    "\n",
    "for col in categorical_cols_mode:\n",
    "    df[col] = df[col].fillna(df[col].mode()[0])"
   ]
  },
  {
   "cell_type": "markdown",
   "metadata": {
    "collapsed": false,
    "jupyter": {
     "outputs_hidden": false
    }
   },
   "source": [
    "<span style='color:blue'>**Step 6: Feature Engineering (Categorize Manufacturers as they have high cardinality)**</span>"
   ]
  },
  {
   "cell_type": "code",
   "execution_count": null,
   "metadata": {
    "jupyter": {
     "outputs_hidden": false
    }
   },
   "outputs": [],
   "source": [
    "luxury = ['ferrari', 'land rover', 'aston-martin', 'tesla', 'porsche', 'bmw', 'mercedes-benz', 'audi', 'alfa-romeo']\n",
    "economy = ['ford', 'chevrolet', 'toyota', 'honda', 'nissan', 'hyundai', 'kia','fiat', 'subaru']\n",
    "specialty = ['harley-davidson', 'mini']\n",
    "\n",
    "def categorize_manufacturer(manufacturer):\n",
    "    if manufacturer in luxury:\n",
    "        return 'Luxury'\n",
    "    elif manufacturer in economy:\n",
    "        return 'Economy'\n",
    "    elif manufacturer in specialty:\n",
    "        return 'Specialty'\n",
    "    else:\n",
    "        return 'Other'\n",
    "\n",
    "df['manufacturer_group'] = df['manufacturer'].apply(categorize_manufacturer)\n"
   ]
  },
  {
   "cell_type": "markdown",
   "metadata": {
    "collapsed": false,
    "jupyter": {
     "outputs_hidden": false
    }
   },
   "source": [
    "<span style='color:blue'>**Step 6.1: Drop Manufacturer once we have manufacturer group**</span>"
   ]
  },
  {
   "cell_type": "code",
   "execution_count": null,
   "metadata": {
    "jupyter": {
     "outputs_hidden": false
    }
   },
   "outputs": [],
   "source": [
    "df = df.drop(columns='manufacturer', errors='ignore')"
   ]
  },
  {
   "cell_type": "markdown",
   "metadata": {
    "collapsed": false,
    "jupyter": {
     "outputs_hidden": false
    }
   },
   "source": [
    "<span style='color:blue'>**Step 7: Feature Engineering (Scale Odometer)**</span>\n"
   ]
  },
  {
   "cell_type": "code",
   "execution_count": null,
   "metadata": {
    "jupyter": {
     "outputs_hidden": false
    }
   },
   "outputs": [],
   "source": [
    "# Rescale the 'odometer' column to thousands of miles\n",
    "df['odometer'] = df['odometer'] / 1000"
   ]
  },
  {
   "cell_type": "markdown",
   "metadata": {
    "collapsed": false,
    "jupyter": {
     "outputs_hidden": false
    }
   },
   "source": [
    "<span style='color:blue'>**Step 8: Relook at the cleaned up data**</span>"
   ]
  },
  {
   "cell_type": "code",
   "execution_count": null,
   "metadata": {
    "jupyter": {
     "outputs_hidden": false
    }
   },
   "outputs": [],
   "source": [
    "df.info()"
   ]
  },
  {
   "cell_type": "markdown",
   "metadata": {
    "collapsed": false,
    "jupyter": {
     "outputs_hidden": false
    }
   },
   "source": [
    "<span style='color:blue'>**Step 8.1: Look at the overall data quality**</span>\n"
   ]
  },
  {
   "cell_type": "code",
   "execution_count": null,
   "metadata": {
    "jupyter": {
     "outputs_hidden": false
    }
   },
   "outputs": [],
   "source": [
    "report_data_quality(df)"
   ]
  },
  {
   "cell_type": "code",
   "execution_count": null,
   "metadata": {
    "jupyter": {
     "outputs_hidden": false
    }
   },
   "outputs": [],
   "source": [
    "df.info()"
   ]
  },
  {
   "cell_type": "code",
   "execution_count": null,
   "metadata": {
    "jupyter": {
     "outputs_hidden": false
    }
   },
   "outputs": [],
   "source": [
    "report_missing_values(df)"
   ]
  },
  {
   "cell_type": "markdown",
   "metadata": {
    "collapsed": false,
    "jupyter": {
     "outputs_hidden": false
    }
   },
   "source": [
    "<span style='color:blue'>**Step 8.2: Visualize the cleaned up data**</span>\n"
   ]
  },
  {
   "cell_type": "code",
   "execution_count": null,
   "metadata": {
    "jupyter": {
     "outputs_hidden": false
    }
   },
   "outputs": [],
   "source": [
    "import seaborn as sns\n",
    "import matplotlib.pyplot as plt\n",
    "\n",
    "# Visualize the cleaned-up data\n",
    "# Identify numerical and categorical columns\n",
    "numerical_columns = df.select_dtypes(include=['number']).columns\n",
    "categorical_columns = df.select_dtypes(include=['object']).columns\n",
    "\n",
    "# Plot histograms for numerical columns\n",
    "df[numerical_columns].hist(figsize=(12, 10), bins=30, edgecolor=\"black\")\n",
    "plt.suptitle(\"Histograms of Numerical Columns\")\n",
    "plt.show()\n",
    "\n",
    "# Plot bar charts for categorical columns (top 10 categories for each)\n",
    "for col in categorical_columns:\n",
    "    plt.figure(figsize=(10, 5))\n",
    "    \n",
    "    # Create the bar plot using seaborn\n",
    "    value_counts = df[col].value_counts().head(20)\n",
    "    ax = sns.barplot(x=value_counts.index, y=value_counts.values, color='skyblue', edgecolor=\"black\")\n",
    "    \n",
    "    # Add the count labels on top of the bars\n",
    "    for p in ax.patches:\n",
    "        ax.annotate(f'{int(p.get_height())}', \n",
    "                    (p.get_x() + p.get_width() / 2., p.get_height()), \n",
    "                    ha='center', va='center', \n",
    "                    fontsize=10, color='black', \n",
    "                    xytext=(0, 5),  # 5 points vertical offset\n",
    "                    textcoords='offset points')\n",
    "    \n",
    "    plt.title(f\"Top 20 Categories for {col}\")\n",
    "    plt.xlabel(col)\n",
    "    plt.ylabel(\"Count\")\n",
    "    plt.xticks(rotation=45)  # Rotate x-axis labels for readability\n",
    "    plt.show()\n"
   ]
  },
  {
   "cell_type": "markdown",
   "metadata": {
    "collapsed": false,
    "jupyter": {
     "outputs_hidden": false
    }
   },
   "source": [
    "# **Data Analysis After Clean up**\n",
    "\n",
    "### <span style='color:blue'>**Dataset Overview (Complete Dataset)**</span>\n",
    "\n",
    "- **Total rows:** 383093 (from 426K)\n",
    "- **Total columns:** 12 (from 18)\n",
    "- **No unknowns, blanks and reduced outliers in the data**\n",
    "- **Other aspects:** \n",
    "    - The data looks cleaner but there are segments like 12 cylinder which are few in number and indicating a rare categories which could impact the car trends\n",
    "    - We have removed some categories like manufacturer and made a grouping of manufacturer group to get a better sense of impact, however some times a specific manufacturer could also have impact on trend.\n",
    "---\n"
   ]
  },
  {
   "cell_type": "markdown",
   "metadata": {
    "collapsed": false,
    "jupyter": {
     "outputs_hidden": false
    }
   },
   "source": []
  },
  {
   "cell_type": "markdown",
   "metadata": {},
   "source": [
    "### Modeling\n",
    "\n",
    "With your (almost?) final dataset in hand, it is now time to build some models.  Here, you should build a number of different regression models with the price as the target.  In building your models, you should explore different parameters and be sure to cross-validate your findings."
   ]
  },
  {
   "cell_type": "markdown",
   "metadata": {
    "collapsed": false,
    "jupyter": {
     "outputs_hidden": false
    }
   },
   "source": [
    "<span style='color:blue'>**Start Analysis with a generic regression model**</span>"
   ]
  },
  {
   "cell_type": "code",
   "execution_count": null,
   "metadata": {},
   "outputs": [],
   "source": [
    "import pandas as pd\n",
    "from sklearn.linear_model import LinearRegression\n",
    "from sklearn.model_selection import train_test_split\n",
    "\n",
    "# Separate features and target\n",
    "X = df.drop('price', axis=1)\n",
    "y = df['price']\n",
    "\n",
    "# Convert categorical features to numeric (one-hot encoding)\n",
    "X = pd.get_dummies(X, drop_first=True)\n",
    "\n",
    "# Optional: split data into train/test (here we use training data for feature impact)\n",
    "X_train, X_test, y_train, y_test = train_test_split(X, y, test_size=0.2, random_state=42)\n",
    "\n",
    "# Fit a linear regression model\n",
    "lr = LinearRegression()\n",
    "lr.fit(X_train, y_train)\n",
    "\n",
    "# Create a DataFrame of features and their coefficients\n",
    "coef_df = pd.DataFrame({\n",
    "    'Feature': X_train.columns,\n",
    "    'Coefficient': lr.coef_\n",
    "})\n",
    "\n",
    "# Sort features by the magnitude of impact (absolute value of coefficient)\n",
    "coef_df['AbsCoefficient'] = coef_df['Coefficient'].abs()\n",
    "coef_df = coef_df.sort_values(by='AbsCoefficient', ascending=False)\n",
    "\n",
    "print(\"Feature impact on price (positive means increase, negative means decrease):\")\n",
    "coef_df[['Feature', 'Coefficient']]"
   ]
  },
  {
   "cell_type": "markdown",
   "metadata": {
    "collapsed": false,
    "jupyter": {
     "outputs_hidden": false
    }
   },
   "source": [
    "### <span style='color:blue'> This data with coefficients shows some weird aspects like gas which is the most common type of car having a lower price. Also fuel being in the top 5 makes we think there is some segmentation by feul type here as 'cylinders' is only applicable for 'gas' cars. Now trying with Ridge regression model to get a better idea on which features have a real impact.  </span>\n"
   ]
  },
  {
   "cell_type": "code",
   "execution_count": null,
   "metadata": {},
   "outputs": [],
   "source": [
    "from sklearn.linear_model import Ridge\n",
    "from sklearn.model_selection import train_test_split\n",
    "import pandas as pd\n",
    "\n",
    "# Separate features and target\n",
    "X = df.drop('price', axis=1)  # Assuming 'price' is the target\n",
    "y = df['price']\n",
    "\n",
    "# Convert categorical features to numeric (one-hot encoding)\n",
    "X = pd.get_dummies(X, drop_first=True)\n",
    "\n",
    "# Optional: split data into train/test (using training data for feature impact)\n",
    "X_train, X_test, y_train, y_test = train_test_split(X, y, test_size=0.2, random_state=42)\n",
    "\n",
    "# Initialize Ridge regression model with a regularization strength (alpha)\n",
    "ridge = Ridge(alpha=2.0)  # You can adjust the alpha value to control regularization strength\n",
    "\n",
    "# Fit the model\n",
    "ridge.fit(X_train, y_train)\n",
    "\n",
    "# Get the coefficients and their feature names\n",
    "coef_df = pd.DataFrame({\n",
    "    'Feature': X_train.columns,\n",
    "    'Coefficient': ridge.coef_\n",
    "})\n",
    "\n",
    "# Sort by absolute value of the coefficients to see the most impactful features\n",
    "coef_df['AbsCoefficient'] = coef_df['Coefficient'].abs()\n",
    "coef_df = coef_df.sort_values(by='Coefficient', ascending=False)\n",
    "\n",
    "print(\"Feature impact on price (positive means increase, negative means decrease):\")\n",
    "coef_df[['Feature', 'Coefficient']]\n"
   ]
  },
  {
   "cell_type": "markdown",
   "metadata": {
    "collapsed": false,
    "jupyter": {
     "outputs_hidden": false
    }
   },
   "source": [
    "### <span style='color:blue'> After seeing the results from Ridge also there is not much of a difference in the co-efficients which indicates that the impact of Cyliners, Type of Vehicle, Fuel Type, Odometer are very much impacting the final price of the vehicle. However since some of the aspects like cyliners only make sense for gas , separating out feul types would help me provide a better recommendation to the car dealer</span>"
   ]
  },
  {
   "cell_type": "markdown",
   "metadata": {},
   "source": [
    "### Evaluation\n",
    "\n",
    "With some modeling accomplished, we aim to reflect on what we identify as a high-quality model and what we are able to learn from this.  We should review our business objective and explore how well we can provide meaningful insight into drivers of used car prices.  Your goal now is to distill your findings and determine whether the earlier phases need revisitation and adjustment or if you have information of value to bring back to your client."
   ]
  },
  {
   "cell_type": "markdown",
   "metadata": {
    "collapsed": false,
    "jupyter": {
     "outputs_hidden": false
    }
   },
   "source": []
  },
  {
   "cell_type": "code",
   "execution_count": null,
   "metadata": {
    "jupyter": {
     "outputs_hidden": false
    }
   },
   "outputs": [],
   "source": [
    "import pandas as pd\n",
    "import statsmodels.formula.api as smf\n",
    "\n",
    "models = {}\n",
    "for fuel in df['fuel'].unique():\n",
    "    df_fuel = df[df['fuel'] == fuel]\n",
    "    formula = 'price ~ odometer + year + condition + type + manufacturer_group + paint_color + title_status + cylinders + transmission + drive + size'\n",
    "    model = smf.ols(formula, data=df_fuel).fit()\n",
    "    models[fuel] = model\n",
    "    print(f\"___________________________________\")\n",
    "    print(f\"___________________________________\")\n",
    "    print(f\"Model summary for fuel type: {fuel}\")\n",
    "    print(model.summary())\n",
    "    file_location = \"/Users/ms/Downloads/coef_summary\" + fuel + \".txt\"\n",
    "    with open(file_location, 'w') as f:\n",
    "        f.write(model.summary().as_text())  \n"
   ]
  },
  {
   "cell_type": "markdown",
   "metadata": {},
   "source": [
    "### Deployment\n",
    "\n",
    "Now that we've settled on our models and findings, it is time to deliver the information to the client.  You should organize your work as a basic report that details your primary findings.  Keep in mind that your audience is a group of used car dealers interested in fine-tuning their inventory."
   ]
  },
  {
   "cell_type": "markdown",
   "metadata": {
    "collapsed": false,
    "jupyter": {
     "outputs_hidden": false
    }
   },
   "source": [
    "# Final Summary: What Consumers Value in a Used Car\n",
    "\n",
    "This recommendation to car dealer is based on regression analyses across fuel types — gas, diesel, electric, hybrid, and other — and identifies features that significantly impact the resale price of used vehicles.\n",
    "\n",
    "---\n",
    "\n",
    "## 1. Condition of the Vehicle\n",
    "- Vehicles in **\"like new\"** or **\"good\"** condition consistently command **higher prices**.\n",
    "- **\"Fair\"** or **\"salvage\"** condition leads to significant **price drops**, especially in diesel and gas vehicles.\n",
    "- Electric and hybrid models also show positive pricing effects for better condition.\n",
    "\n",
    "---\n",
    "\n",
    "## 2. Vehicle Type\n",
    "- **Pickup trucks** and **convertibles** generally sell for **higher prices** across most fuel types.\n",
    "- **Hatchbacks**, **mini-vans**, and **wagons** typically result in **lower resale values** (strongest in gas, hybrid, and other categories).\n",
    "- **Offroad** and **truck** types (especially in gas and diesel) have **positive price influence**.\n",
    "\n",
    "---\n",
    "\n",
    "## 3. Manufacturer Group\n",
    "- **Luxury brands** are strongly associated with **higher prices** across **all fuel types**, with the largest positive coefficients found in electric and hybrid cars.\n",
    "- Vehicles from **“Other” manufacturers** also add value, particularly in hybrids and gas types.\n",
    "- **Diesel vehicles** showed a **negative impact** for luxury brands, possibly due to lower market demand.\n",
    "\n",
    "---\n",
    "\n",
    "## 4. Transmission & Drive\n",
    "- **“Other” transmission types** often result in **higher prices** (especially in electric and hybrid).\n",
    "- **Manual transmission** has a **positive impact in hybrids** but is neutral or negative in others.\n",
    "- **Front-wheel drive (FWD)** is associated with **lower prices** across all segments.\n",
    "- **Rear-wheel drive (RWD)** generally adds value, especially in diesel and other types.\n",
    "\n",
    "---\n",
    "\n",
    "## 5. Cylinders (Non-Electric Only)\n",
    "- **Gas and diesel vehicles** with **6 or 8 cylinders** often have **higher prices**.\n",
    "- **Electric vehicles do not have cylinders**, and this variable is not relevant for them.\n",
    "- In hybrids and other types, cylinder count has mixed or minimal effects on price.\n",
    "\n",
    "---\n",
    "\n",
    "## 6. Year and Odometer\n",
    "- **Newer vehicles** strongly increase resale price across **all fuel types**.\n",
    "- **Lower mileage (odometer)** is correlated with **higher price**, especially in **gas, diesel, and other** types.\n",
    "- The effect is strongest in hybrid and diesel vehicles.\n",
    "\n",
    "---\n",
    "\n",
    "## 7. Paint Color\n",
    "- **Red** and **yellow** sometimes increase value (e.g., electric and hybrid), though inconsistently.\n",
    "- **Blue, white, silver, orange, and custom colors** generally reduce resale price.\n",
    "- **Green and purple** tend to lower prices, especially in gas, diesel, and other fuel types.\n",
    "\n",
    "---\n",
    "\n",
    "## Conclusion\n",
    "To meet consumer demand and maximize value:\n",
    "- Focus on **newer, well-maintained vehicles**, especially from **luxury manufacturers**.\n",
    "- Avoid **high-mileage**, **salvage-title**, or **low-demand body types**.\n",
    "- Tailor purchases by fuel type, noting that electric cars prioritize **brand, year, and tech**, not traditional features like cylinders.\n"
   ]
  },
  {
   "cell_type": "code",
   "execution_count": null,
   "metadata": {
    "jupyter": {
     "outputs_hidden": false
    }
   },
   "outputs": [],
   "source": []
  }
 ],
 "metadata": {
  "kernelspec": {
   "display_name": "Python 3 (ipykernel)",
   "language": "python",
   "name": "python3"
  },
  "language_info": {
   "codemirror_mode": {
    "name": "ipython",
    "version": 3
   },
   "file_extension": ".py",
   "mimetype": "text/x-python",
   "name": "python",
   "nbconvert_exporter": "python",
   "pygments_lexer": "ipython3",
   "version": "3.12.7"
  },
  "widgets": {
   "application/vnd.jupyter.widget-state+json": {
    "state": {},
    "version_major": 2,
    "version_minor": 0
   }
  }
 },
 "nbformat": 4,
 "nbformat_minor": 4
}
